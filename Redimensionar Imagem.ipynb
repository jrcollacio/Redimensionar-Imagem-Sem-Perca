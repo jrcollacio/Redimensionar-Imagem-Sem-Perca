{
 "cells": [
  {
   "cell_type": "code",
   "execution_count": 10,
   "id": "24897a19-a51b-46c6-a37f-c6775f29678d",
   "metadata": {},
   "outputs": [
    {
     "name": "stdout",
     "output_type": "stream",
     "text": [
      "Imagens Redimensionadas comSucesso!\n"
     ]
    }
   ],
   "source": [
    "import os\n",
    "from PIL import Image\n",
    "\n",
    "def redimensionar_imagens(input_folder, output_folder, novo_tamanho):\n",
    "    # Verificar se o diretório de saída existe, se não, criar\n",
    "    if not os.path.exists(output_folder):\n",
    "        os.makedirs(output_folder)\n",
    "    \n",
    "    # Listar todos os arquivos na pasta de entrada\n",
    "    arquivos = os.listdir(input_folder)\n",
    "    \n",
    "    # Percorrer todos os arquivos na pasta de entrada\n",
    "    for arquivo in arquivos:\n",
    "        # Verificar se o arquivo é uma imagem\n",
    "        if arquivo.endswith('.jpg') or arquivo.endswith('.png') or arquivo.endswith('.jpeg'):\n",
    "            # Caminho completo para a imagem de entrada\n",
    "            input_path = os.path.join(input_folder, arquivo)\n",
    "            \n",
    "            # Caminho completo para a imagem de saída (mesmo nome na pasta de saída)\n",
    "            output_path = os.path.join(output_folder, arquivo)\n",
    "            \n",
    "            # Abrir a imagem\n",
    "            imagem = Image.open(input_path)\n",
    "            \n",
    "            # Redimensionar a imagem sem perda de qualidade usando Lanczos\n",
    "            imagem_redimensionada = imagem.resize(novo_tamanho, Image.LANCZOS)\n",
    "\n",
    "            # Extrair o novo nome do arquivo removendo parte do nome\n",
    "            novo_nome = os.path.splitext(arquivo)[0].split('_')[0] + os.path.splitext(arquivo)[1]\n",
    "            \n",
    "            # Caminho completo para a imagem de saída com o novo nome\n",
    "            output_path = os.path.join(output_folder, novo_nome)\n",
    "            \n",
    "            # Salvar a imagem redimensionada em formato PNG para preservar a qualidade\n",
    "            imagem_redimensionada.save(output_path, format='PNG')\n",
    "\n",
    "            # Renomear o arquivo original\n",
    "            os.rename(input_path, os.path.join(input_folder, novo_nome))\n",
    "\n",
    "\n",
    "# Exemplo de uso\n",
    "input_folder = r'C:\\Users\\NT.EMP\\Desktop\\Concluidas'  # Caminho para a pasta de entrada\n",
    "output_folder = r'C:\\Users\\NT.EMP\\Desktop\\Concluidas_1'  # Caminho para a pasta de saída\n",
    "novo_tamanho = (600, 399)  # Novas dimensões desejadas (largura, altura)\n",
    "\n",
    "redimensionar_imagens(input_folder, output_folder, novo_tamanho)\n",
    "\n",
    "print (\"Imagens Redimensionadas comSucesso!\")"
   ]
  },
  {
   "cell_type": "code",
   "execution_count": null,
   "id": "c1e7c614-fabf-460c-98b7-1048a3872c8d",
   "metadata": {},
   "outputs": [],
   "source": []
  }
 ],
 "metadata": {
  "kernelspec": {
   "display_name": "Python 3 (ipykernel)",
   "language": "python",
   "name": "python3"
  },
  "language_info": {
   "codemirror_mode": {
    "name": "ipython",
    "version": 3
   },
   "file_extension": ".py",
   "mimetype": "text/x-python",
   "name": "python",
   "nbconvert_exporter": "python",
   "pygments_lexer": "ipython3",
   "version": "3.12.1"
  }
 },
 "nbformat": 4,
 "nbformat_minor": 5
}
